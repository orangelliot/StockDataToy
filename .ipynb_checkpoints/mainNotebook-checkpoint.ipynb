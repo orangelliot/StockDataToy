{
 "cells": [
  {
   "cell_type": "code",
   "execution_count": 2,
   "id": "3a46ef10",
   "metadata": {},
   "outputs": [
    {
     "name": "stdout",
     "output_type": "stream",
     "text": [
      "<class 'pandas.core.frame.DataFrame'>\n",
      "RangeIndex: 7234 entries, 0 to 7233\n",
      "Data columns (total 11 columns):\n",
      " #   Column      Non-Null Count  Dtype  \n",
      "---  ------      --------------  -----  \n",
      " 0   Symbol      7233 non-null   object \n",
      " 1   Name        7234 non-null   object \n",
      " 2   Last Sale   7234 non-null   object \n",
      " 3   Net Change  7234 non-null   float64\n",
      " 4   % Change    7234 non-null   object \n",
      " 5   Market Cap  6815 non-null   float64\n",
      " 6   Country     6932 non-null   object \n",
      " 7   IPO Year    4122 non-null   float64\n",
      " 8   Volume      7234 non-null   int64  \n",
      " 9   Sector      6453 non-null   object \n",
      " 10  Industry    6453 non-null   object \n",
      "dtypes: float64(3), int64(1), object(7)\n",
      "memory usage: 621.8+ KB\n",
      "None\n"
     ]
    }
   ],
   "source": [
    "import os\n",
    "os.environ['PYARROW_IGNORE_TIMEZONE']='1'\n",
    "os.environ['PYSPARK_DRIVER_PYTHON']='C:/Users/ellio/miniconda3/envs/bigdata/python.exe'\n",
    "os.environ['PYSPARK_PYTHON']='C:/Users/ellio/miniconda3/envs/bigdata/python.exe'\n",
    "\n",
    "import requests\n",
    "import pyspark.pandas as ps\n",
    "import pandas as pd\n",
    "from pyspark.sql import SparkSession\n",
    "from dotenv import load_dotenv\n",
    "\n",
    "load_dotenv()\n",
    "\n",
    "AV_KEY = os.getenv('AV_KEY')\n",
    "FUNCTION = 'TIME_SERIES_INTRADAY'\n",
    "SYMBOL = 'IBM'\n",
    "INTERVAL = '5min'\n",
    "\n",
    "spark = SparkSession\\\n",
    "        .builder\\\n",
    "        .master('local')\\\n",
    "        .appName('StockDataToy')\\\n",
    "        .getOrCreate()\n",
    "\n",
    "nasdaq_screener = pd.read_csv('nasdaq_screener.csv')\n",
    "\n",
    "print(nasdaq_screener.info())"
   ]
  },
  {
   "cell_type": "code",
   "execution_count": 6,
   "id": "64341290",
   "metadata": {},
   "outputs": [
    {
     "name": "stdout",
     "output_type": "stream",
     "text": [
      "{'currency': 'USD', 'symbol': 'MSFT', 'exchangeName': 'NMS', 'fullExchangeName': 'NasdaqGS', 'instrumentType': 'EQUITY', 'firstTradeDate': 511108200, 'regularMarketTime': 1712001601, 'hasPrePostMarketData': True, 'gmtoffset': -14400, 'timezone': 'EDT', 'exchangeTimezoneName': 'America/New_York', 'regularMarketPrice': 424.57, 'fiftyTwoWeekHigh': 427.89, 'fiftyTwoWeekLow': 422.22, 'regularMarketDayHigh': 427.89, 'regularMarketDayLow': 422.22, 'regularMarketVolume': 14744117, 'chartPreviousClose': 415.5, 'priceHint': 2, 'currentTradingPeriod': {'pre': {'timezone': 'EDT', 'start': 1711958400, 'end': 1711978200, 'gmtoffset': -14400}, 'regular': {'timezone': 'EDT', 'start': 1711978200, 'end': 1712001600, 'gmtoffset': -14400}, 'post': {'timezone': 'EDT', 'start': 1712001600, 'end': 1712016000, 'gmtoffset': -14400}}, 'dataGranularity': '1d', 'range': '1mo', 'validRanges': ['1d', '5d', '1mo', '3mo', '6mo', '1y', '2y', '5y', '10y', 'ytd', 'max']}\n"
     ]
    }
   ],
   "source": [
    "import yfinance as yf\n",
    "\n",
    "msft = yf.Ticker(\"MSFT\")\n",
    "\n",
    "msft.history(period=\"1mo\")\n",
    "\n",
    "print(msft.history_metadata)"
   ]
  },
  {
   "cell_type": "code",
   "execution_count": null,
   "id": "a21f604a",
   "metadata": {},
   "outputs": [],
   "source": [
    "\n",
    "\n",
    "industries = nasdaq_screner.Industry.unique()\n",
    "\n",
    "for ind in industries:\n",
    "    ind_companies = nasdaq_screener[nasdaq_screener['Industry'] == ind]['Symbol']\n",
    "        all_companies = None\n",
    "        for company in ind_companies:\n",
    "            tickr = yf.Ticker(company)\n",
    "            \n",
    "            if(all_companies is None):\n",
    "                df.add_suffix(f'_{company}')\n",
    "                df.rename(columns={df.columns.values[0]:'date'})\n",
    "                all_companies = df\n",
    "            else:\n",
    "                all_companies.join(other=df, on='date', how='inner', rsuffix=f'_{company}')\n",
    "        print(all_companies.info())\n",
    "\n"
   ]
  }
 ],
 "metadata": {
  "kernelspec": {
   "display_name": "Python [conda env:bigdata]",
   "language": "python",
   "name": "conda-env-bigdata-py"
  },
  "language_info": {
   "codemirror_mode": {
    "name": "ipython",
    "version": 3
   },
   "file_extension": ".py",
   "mimetype": "text/x-python",
   "name": "python",
   "nbconvert_exporter": "python",
   "pygments_lexer": "ipython3",
   "version": "3.11.8"
  }
 },
 "nbformat": 4,
 "nbformat_minor": 5
}
